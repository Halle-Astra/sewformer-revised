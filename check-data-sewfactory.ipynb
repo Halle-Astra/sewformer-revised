{
 "cells": [
  {
   "cell_type": "code",
   "execution_count": 1,
   "id": "5beae615-a359-4f41-9dda-31450c4c0250",
   "metadata": {},
   "outputs": [],
   "source": [
    "import os\n",
    "import os.path as osp\n",
    "import glob \n",
    "import json \n",
    "\n",
    "root = './data-sewfactory'"
   ]
  },
  {
   "cell_type": "code",
   "execution_count": 2,
   "id": "3faed352-2adb-4749-b0ae-f58ac99385c9",
   "metadata": {},
   "outputs": [],
   "source": [
    "sf_root = osp.join(root, 'sewfactory')\n",
    "sim_root = osp.join(root, 'simimages')"
   ]
  },
  {
   "cell_type": "markdown",
   "id": "45e05b19-4b85-43a9-b191-4698ce02cd09",
   "metadata": {},
   "source": [
    "检查文件夹数量是否能对上"
   ]
  },
  {
   "cell_type": "code",
   "execution_count": 3,
   "id": "bd589d35-85e4-4141-938c-fd4b1c9d7013",
   "metadata": {},
   "outputs": [
    {
     "data": {
      "text/plain": [
       "True"
      ]
     },
     "execution_count": 3,
     "metadata": {},
     "output_type": "execute_result"
    }
   ],
   "source": [
    "sf_folders = os.listdir(sf_root)\n",
    "sim_folders = os.listdir(sim_root)\n",
    "\n",
    "set(sf_folders)==set(sim_folders)"
   ]
  },
  {
   "cell_type": "markdown",
   "id": "3222359f-d463-4bdd-983f-0ab058ed669a",
   "metadata": {},
   "source": [
    "确保data_props.json的存在"
   ]
  },
  {
   "cell_type": "code",
   "execution_count": 4,
   "id": "80da0ec2-05b5-4b66-b097-a203a8ec92c1",
   "metadata": {},
   "outputs": [
    {
     "name": "stderr",
     "output_type": "stream",
     "text": [
      "100%|████████████████████████████████████████████████████████████████████████████████████████████████████████████████████| 13707/13707 [00:33<00:00, 408.27it/s]\n"
     ]
    }
   ],
   "source": [
    "import tqdm \n",
    "\n",
    "err_ls = [] \n",
    "for fd in tqdm.tqdm(sf_folders):\n",
    "    dp_path = osp.join(sf_root, fd, 'data_props.json')\n",
    "    if not os.path.exists(dp_path):\n",
    "        err_ls.append(dp_path)"
   ]
  },
  {
   "cell_type": "code",
   "execution_count": 5,
   "id": "09f39770-7005-434a-a7f4-97238130beb4",
   "metadata": {},
   "outputs": [
    {
     "data": {
      "text/plain": [
       "0"
      ]
     },
     "execution_count": 5,
     "metadata": {},
     "output_type": "execute_result"
    }
   ],
   "source": [
    "len(err_ls)"
   ]
  },
  {
   "attachments": {},
   "cell_type": "markdown",
   "id": "0fa5dad2-6025-493b-a5bb-4a48932bf315",
   "metadata": {},
   "source": [
    "检查sewfactory文件下的objects目录是不是都只有0和-50两个情况\n",
    "```\n",
    "├── objects\n",
    "│   ├── wb_dress_sleeveless_ZYWMJ5QUQ9_wb_dress_sleeveless_ZYWMJ5QUQ9_0.obj\n",
    "│   └── wb_dress_sleeveless_ZYWMJ5QUQ9_wb_dress_sleeveless_ZYWMJ5QUQ9_-50.obj\n",
    "```\n"
   ]
  },
  {
   "cell_type": "code",
   "execution_count": 6,
   "id": "32aa1c36-4e1a-4d65-9c75-223347af45eb",
   "metadata": {},
   "outputs": [
    {
     "name": "stderr",
     "output_type": "stream",
     "text": [
      " 43%|██████▍        | 5839/13707 [00:08<00:11, 672.54it/s]"
     ]
    },
    {
     "name": "stdout",
     "output_type": "stream",
     "text": [
      "tee_sleeveless_C2EFEDVIB0_wb_pants_straight_U3CBKG8WW1 should be checked\n"
     ]
    },
    {
     "name": "stderr",
     "output_type": "stream",
     "text": [
      "100%|██████████████| 13707/13707 [00:45<00:00, 302.61it/s]\n"
     ]
    }
   ],
   "source": [
    "import tqdm \n",
    "\n",
    "err_ls = [] \n",
    "for fd in tqdm.tqdm(sf_folders):\n",
    "    dp_path = osp.join(sf_root, fd, 'objects')\n",
    "    objs = os.listdir(dp_path)\n",
    "    angles = [i.split('_')[-1] for i in objs]\n",
    "    angles = set(angles)\n",
    "    if angles != set(['0.obj', '-50.obj']):\n",
    "        print(fd, 'should be checked')"
   ]
  },
  {
   "cell_type": "code",
   "execution_count": 8,
   "id": "3feb9358-5587-46bf-9c4c-594ec8f6d3ac",
   "metadata": {},
   "outputs": [
    {
     "name": "stdout",
     "output_type": "stream",
     "text": [
      "['tee_sleeveless_C2EFEDVIB0_tee_sleeveless_C2EFEDVIB0_0.obj', 'wb_pants_straight_U3CBKG8WW1_wb_pants_straight_U3CBKG8WW1_0.obj']\n"
     ]
    }
   ],
   "source": [
    "print(os.listdir(osp.join(sf_root, 'tee_sleeveless_C2EFEDVIB0_wb_pants_straight_U3CBKG8WW1','objects')))"
   ]
  },
  {
   "cell_type": "markdown",
   "id": "c38b7bd9-090e-4283-9e3c-530bd0b88823",
   "metadata": {},
   "source": [
    "<font color='red'> 有点诡异，但是不知道是不是允许的，暂且搁置，处理掉其他的，但是依然有报错，那再回头处理这个。感觉是很可能是合理的。</font>"
   ]
  },
  {
   "cell_type": "markdown",
   "id": "28876834-aee5-4386-bea4-3bcb17fead58",
   "metadata": {},
   "source": [
    "-----\n",
    "\n",
    "objects和poses文件夹联动"
   ]
  },
  {
   "cell_type": "code",
   "execution_count": 12,
   "id": "ff5ab8b1-ffa9-400f-ae7c-b3fead63aba2",
   "metadata": {},
   "outputs": [
    {
     "name": "stderr",
     "output_type": "stream",
     "text": [
      " 75%|████████▉   | 10269/13707 [00:00<00:00, 51557.60it/s]"
     ]
    },
    {
     "name": "stdout",
     "output_type": "stream",
     "text": [
      "tee_sleeveless_CBJCFDXPTH_skirt_2_panels_CR69QH0QJK err with -50 not exist\n",
      "jumpsuit_sleeveless_LHJ9QN4DLI err with -50 not exist\n"
     ]
    },
    {
     "name": "stderr",
     "output_type": "stream",
     "text": [
      "100%|████████████| 13707/13707 [00:00<00:00, 45232.79it/s]"
     ]
    },
    {
     "name": "stdout",
     "output_type": "stream",
     "text": [
      "jumpsuit_sleeveless_T134NEO518 err with -50 not exist\n"
     ]
    },
    {
     "name": "stderr",
     "output_type": "stream",
     "text": [
      "\n"
     ]
    }
   ],
   "source": [
    "err_ls = [] \n",
    "for fd in tqdm.tqdm(sf_folders):\n",
    "    dp_path = osp.join(sf_root, fd, 'objects')\n",
    "    objs = os.listdir(dp_path)\n",
    "    angles = [i.split('_')[-1] for i in objs]\n",
    "    angles = [i.split('.')[0] for i in angles]\n",
    "    angles = set(angles)\n",
    "    for angle in angles:\n",
    "        angle_digits = angle[1:] if angle[0] == '-' else angle  \n",
    "        angle_zfilled = angle_digits.zfill(4)\n",
    "        angle_zfilled_with_sign = '-' + angle_zfilled if angle[0] == '-' else angle_zfilled\n",
    "        body_info_file = osp.join(sf_root, fd, 'poses', angle_zfilled_with_sign+'__body_info.json')\n",
    "        if not os.path.exists(body_info_file):\n",
    "            err_ls.append(fd)\n",
    "            print(fd, 'err with', angle, 'not exist')"
   ]
  },
  {
   "cell_type": "code",
   "execution_count": 13,
   "id": "53101a3e-69a7-45a4-8e4a-aac3e277fa45",
   "metadata": {},
   "outputs": [
    {
     "name": "stdout",
     "output_type": "stream",
     "text": [
      "/home/halle/workspace/programs/sewformer\n"
     ]
    }
   ],
   "source": [
    "! pwd "
   ]
  },
  {
   "cell_type": "code",
   "execution_count": 14,
   "id": "e63ed8aa-0cf9-4333-9dcc-21174ba698c6",
   "metadata": {},
   "outputs": [
    {
     "name": "stdout",
     "output_type": "stream",
     "text": [
      "skirt_2_panels_CR69QH0QJK_skirt_2_panels_CR69QH0QJK_0.obj\n",
      "skirt_2_panels_CR69QH0QJK_skirt_2_panels_CR69QH0QJK_-50.obj\n",
      "tee_sleeveless_CBJCFDXPTH_tee_sleeveless_CBJCFDXPTH_0.obj\n",
      "tee_sleeveless_CBJCFDXPTH_tee_sleeveless_CBJCFDXPTH_-50.obj\n",
      "0000__body_info.json\n"
     ]
    }
   ],
   "source": [
    "! ls  data-sewfactory/sewfactory/tee_sleeveless_CBJCFDXPTH_skirt_2_panels_CR69QH0QJK/objects && ls data-sewfactory/sewfactory/tee_sleeveless_CBJCFDXPTH_skirt_2_panels_CR69QH0QJK/poses"
   ]
  },
  {
   "cell_type": "markdown",
   "id": "79ac2959-4ba6-4c14-86fd-63e80fe185fb",
   "metadata": {},
   "source": [
    "跑了一遍训练，恰巧符合报错：\n",
    "\n",
    "```\n",
    "[rank0]:     return [self.dataset[self.indices[idx]] for idx in indices]\n",
    "[rank0]:   File \"/workspace/programs/sewformer/Sewformer/data/dataset.py\", line 232, in __getitem__\n",
    "[rank0]:     smpl_joint_pose = json.load(open(smpl_pos_fn, \"r\"))[\"pose\"]\n",
    "[rank0]: FileNotFoundError: [Errno 2] No such file or directory: '/workspace/programs/sewformer/data-sewfactory/sewfactory/tee_sleeveless_CBJCFDXPTH_skirt_2_panels_CR69QH0QJK/poses/-0050__body_info.json'\n",
    "```\n",
    "\n",
    "从这个报错，找到相关的代码\n",
    "\n",
    "```\n",
    "# __init__\n",
    "                if os.path.exists(os.path.join(self.root_path, folder, \"renders\")):\n",
    "                    gt_folder = os.path.join(self.root_path, folder, \"static\")\n",
    "                    img_names = [os.path.join(self.sim_root, folder, fn) for fn in os.listdir(os.path.join(self.root_path, folder, \"renders\")) if fn.endswith(\".png\")]\n",
    "                    for img_name in img_names:\n",
    "                        if os.path.exists(img_name):\n",
    "                            merge_names = [(img_name, None, gt_folder)]\n",
    "                            self.datapoints_names += merge_names\n",
    "                else:\n",
    "                    gt_folder = os.path.join(self.root_path, folder)\n",
    "                    merge_names = [(None, None, gt_folder)]\n",
    "                    self.datapoints_names += merge_names\n",
    "\n",
    "# __getitem__\n",
    "        if \"use_smpl_loss\" in self.config and  self.config[\"use_smpl_loss\"]: # training: True\n",
    "            smpl_pos_fn = self.get_smpl_pose_fn(datapoint_name, gt_folder)\n",
    "            smpl_joint_pose = json.load(open(smpl_pos_fn, \"r\"))[\"pose\"]\n",
    "\n",
    "# get_smpl_pose_fn\n",
    "    def get_smpl_pose_fn(self, datapoint_name, gt_folder):\n",
    "        return os.path.join(os.path.dirname(gt_folder), \"poses\", os.path.basename(datapoint_name).split(\"_\")[0] + \"__body_info.json\")\n",
    "```\n",
    "\n",
    "核对一个样例的文件结构是否如上预期\n",
    "\n",
    "![garment_sample](./md_files/files_of_garment_sample.jpg)"
   ]
  },
  {
   "cell_type": "code",
   "execution_count": 24,
   "id": "7455e226-f8f4-4992-9f27-2eb22520a6b9",
   "metadata": {},
   "outputs": [
    {
     "name": "stderr",
     "output_type": "stream",
     "text": [
      "100%|██████████████████████████████████████████████████████████████████████████████████████████████████████████████████| 13707/13707 [00:00<00:00, 30507.86it/s]"
     ]
    },
    {
     "name": "stdout",
     "output_type": "stream",
     "text": [
      "3\n",
      "72\n"
     ]
    },
    {
     "name": "stderr",
     "output_type": "stream",
     "text": [
      "\n"
     ]
    }
   ],
   "source": [
    "bar = tqdm.tqdm(total=len(sim_folders))\n",
    "need_be_removed = [] \n",
    "err_folders_cnt = 0\n",
    "for i, sfolder in enumerate(sim_folders):\n",
    "    sfolder_full = osp.join(sim_root, sfolder)\n",
    "    simages = os.listdir(sfolder_full)\n",
    "    angles = [i.split('_')[0] for i in simages]\n",
    "    angles = set(angles)\n",
    "\n",
    "    poses_folder = osp.join(sf_root, sfolder, 'poses')\n",
    "    poses_files = os.listdir(poses_folder)\n",
    "    angles_pose = [i.split('_')[0] for i in poses_files]\n",
    "    angles_pose = set(angles_pose)\n",
    "    err_flag = False\n",
    "    for angle in angles:\n",
    "        if angle not in angles_pose:\n",
    "            err_flag = True\n",
    "            remove_ls = [osp.join(sim_root, sfolder, i) for i in simages if i.split('_')[0] == angle]\n",
    "            need_be_removed += remove_ls \n",
    "    if err_flag:\n",
    "        err_folders_cnt += 1\n",
    "    bar.update()\n",
    "bar.close()\n",
    "print(err_folders_cnt)\n",
    "print(len(need_be_removed))"
   ]
  },
  {
   "cell_type": "code",
   "execution_count": 26,
   "id": "302231cb-757a-4e14-a34c-067662736645",
   "metadata": {},
   "outputs": [],
   "source": [
    "f = open('sim_remove_list.txt','w', encoding='utf-8')\n",
    "f.write('\\n'.join(need_be_removed))\n",
    "f.close()"
   ]
  },
  {
   "cell_type": "markdown",
   "id": "2d6ad18d-c875-423a-b61f-2b97b1b070b2",
   "metadata": {},
   "source": [
    "新的报错\n",
    "\n",
    "```\n",
    "[rank0]:     spec_dict = self._load_spec_dict(gt_folder)\n",
    "[rank0]:   File \"/workspace/programs/sewformer/Sewformer/data/dataset.py\", line 411, in _load_spec_dict\n",
    "[rank0]:     static_pose = json.load(open(gt_folder + \"/static__body_info.json\", \"r\"))\n",
    "[rank0]: FileNotFoundError: [Errno 2] No such file or directory: '/workspace/programs/sewformer/data-sewfactory/sewfactory/tee_sleeveless_AWFH638TQU_skirt_8_panels_T9V1QXBFD6/static/static__body_info.json'\n",
    "\n",
    "(base) root@B450M:/workspace/programs/sewformer/data-sewfactory/sewfactory/jumpsuit_sleeveless_T134NEO518/poses# ls\n",
    "0000__body_info.json\n",
    "\n",
    "```\n",
    "\n",
    "有些文件确实是有`static__body_info.json`...\n",
    "\n",
    "```\n",
    "(base) halle@B450M:~/workspace/programs/sewformer/data-sewfactory/sewfactory/wb_dress_sleeveless_ZRFG3R9N6C/static$ ls\n",
    "spec_config.json           static_210_0.png           static_30_0.png            static_back.png\n",
    "static_0_30cam_pos.json    static_210_30cam_pos.json  static_30_30cam_pos.json   static__body_info.json\n",
    "static_0_30.png            static_210_30.png          static_30_30.png           static_frontcam_pos.json\n",
    "```\n",
    "\n",
    "结合下面这两段代码\n",
    "```\n",
    "    def _load_spec_dict(self, gt_folder):\n",
    "        if gt_folder in self.gt_jsons[\"spec_dict\"]:\n",
    "            return self.gt_jsons[\"spec_dict\"][gt_folder]\n",
    "        else:\n",
    "            # add smpl root at static pose\n",
    "            static_pose = json.load(open(gt_folder + \"/static__body_info.json\", \"r\"))\n",
    "            static_root = static_pose[\"trans\"]\n",
    "            # logger.info(f'gt_folder: {gt_folder}')\n",
    "            try:\n",
    "                spec_dict = json.load(open(gt_folder + \"/spec_config.json\", \"r\"))\n",
    "            except UnicodeDecodeError as e:\n",
    "                logger.error(f'{e}, gt_folder: {gt_folder}')\n",
    "                exit(-1)\n",
    "            except Exception as e:\n",
    "                logger.error(f'{e}, gt_folder: {gt_folder}')\n",
    "                exit(-1)\n",
    "\n",
    "            for key, val in spec_dict.items():\n",
    "                logger.debug(f'spec name getting: {val[\"spec\"]}')\n",
    "                spec = PureWindowsPath(val[\"spec\"]).parts[-1]\n",
    "                spec_dict[key][\"spec\"] = spec\n",
    "                spec_dict[key][\"delta\"] = np.array(val[\"delta\"]) - np.array(static_root)\n",
    "            self.gt_jsons[\"spec_dict\"][gt_folder] = spec_dict\n",
    "            return spec_dict\n",
    "\n",
    "# _read_pattern\n",
    "\n",
    "        for key, spec in spec_list.items():\n",
    "            if gt_folder + \"/\" + spec in self.gt_jsons[\"specs\"]:\n",
    "                pattern = self.gt_jsons[\"specs\"][gt_folder + \"/\" + spec]\n",
    "            else:\n",
    "                pattern = NNSewingPattern(\n",
    "                    gt_folder + \"/\" + spec, \n",
    "                    panel_classifier=self.panel_classifier, \n",
    "                    template_name=self.template_name(spec_dict[key]['spec']))\n",
    "                self.gt_jsons[\"specs\"][gt_folder + \"/\" + spec] = pattern\n",
    "            logger.debug(f'spec_path when use: {gt_folder+\"/\"+spec}')\n",
    "            patterns.append(pattern)\n",
    "```\n",
    "\n",
    "后一段应该是更深一层级的，应该不关事，这里放出，警惕不要搞混。重点放在第一段。\n",
    "\n",
    "每个`gt_folder`应该会出现多次，第一次应该是走else分支，之后直接走if分支。所以如果<font color='red'>缺失了`static__body_info.json`，那这个文件夹应该就没用了，没有补救方法</font>"
   ]
  },
  {
   "cell_type": "code",
   "execution_count": 28,
   "id": "859429c8-219c-42df-991e-6828ad487555",
   "metadata": {},
   "outputs": [
    {
     "name": "stderr",
     "output_type": "stream",
     "text": [
      "100%|████████████████████████████████████████████████████████████████████████████████████████████████████████████████████| 13707/13707 [01:08<00:00, 199.76it/s]"
     ]
    },
    {
     "name": "stdout",
     "output_type": "stream",
     "text": [
      "2\n"
     ]
    },
    {
     "name": "stderr",
     "output_type": "stream",
     "text": [
      "\n"
     ]
    }
   ],
   "source": [
    "err_ls = []\n",
    "for folder in tqdm.tqdm(sf_folders):\n",
    "    filepath = osp.join(sf_root, folder, 'static/static__body_info.json')\n",
    "    if not os.path.exists(filepath):\n",
    "        err_ls.append(filepath)\n",
    "print(len(err_ls))"
   ]
  },
  {
   "cell_type": "code",
   "execution_count": 29,
   "id": "aea19fe0-dc0d-4aaf-9c0f-2887d5c5f382",
   "metadata": {},
   "outputs": [
    {
     "data": {
      "text/plain": [
       "['./data-sewfactory/sewfactory/tee_sleeveless_C2EFEDVIB0_wb_pants_straight_U3CBKG8WW1/static/static__body_info.json',\n",
       " './data-sewfactory/sewfactory/tee_sleeveless_AWFH638TQU_skirt_8_panels_T9V1QXBFD6/static/static__body_info.json']"
      ]
     },
     "execution_count": 29,
     "metadata": {},
     "output_type": "execute_result"
    }
   ],
   "source": [
    "err_ls"
   ]
  },
  {
   "cell_type": "code",
   "execution_count": null,
   "id": "3fe7e56f-34ec-4cc8-b686-cfae7f78583d",
   "metadata": {},
   "outputs": [],
   "source": []
  }
 ],
 "metadata": {
  "kernelspec": {
   "display_name": "Python 3 (ipykernel)",
   "language": "python",
   "name": "python3"
  },
  "language_info": {
   "codemirror_mode": {
    "name": "ipython",
    "version": 3
   },
   "file_extension": ".py",
   "mimetype": "text/x-python",
   "name": "python",
   "nbconvert_exporter": "python",
   "pygments_lexer": "ipython3",
   "version": "3.13.2"
  }
 },
 "nbformat": 4,
 "nbformat_minor": 5
}
